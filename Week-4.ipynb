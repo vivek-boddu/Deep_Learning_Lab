{
 "cells": [
  {
   "cell_type": "code",
   "execution_count": null,
   "id": "be5a51cd",
   "metadata": {},
   "outputs": [],
   "source": [
    "%pip install pytorch"
   ]
  },
  {
   "cell_type": "code",
   "execution_count": null,
   "id": "933ca7e6",
   "metadata": {},
   "outputs": [],
   "source": []
  }
 ],
 "metadata": {
  "kernelspec": {
   "display_name": ".venv",
   "language": "python",
   "name": "python3"
  },
  "language_info": {
   "name": "python",
   "version": "3.10.11"
  }
 },
 "nbformat": 4,
 "nbformat_minor": 5
}
